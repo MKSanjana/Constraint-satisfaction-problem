{
  "nbformat": 4,
  "nbformat_minor": 0,
  "metadata": {
    "colab": {
      "name": "constraint satisfaction.ipynb",
      "provenance": [],
      "collapsed_sections": []
    },
    "kernelspec": {
      "name": "python3",
      "display_name": "Python 3"
    },
    "language_info": {
      "name": "python"
    }
  },
  "cells": [
    {
      "cell_type": "code",
      "source": [
        "import itertools\n",
        "import re\n",
        "\n",
        "def solve(formula):\n",
        "    \"\"\"Given a formula like 'NUM + BER = PLAY', fill in digits to solve it.\n",
        "    Generate all valid digit-filled-in strings.\"\"\"\n",
        "    return filter(valid, letter_replacements(formula))\n",
        "\n",
        "def letter_replacements(formula):\n",
        "    \"\"\"All possible replacements of letters with digits in formula.\"\"\"\n",
        "    formula = formula.replace(' = ', ' == ') # Allow = or ==\n",
        "    letters = cat(set(re.findall('[A-Z]', formula)))\n",
        "    for digits in itertools.permutations('1234567890', len(letters)):\n",
        "        yield formula.translate(str.maketrans(letters, cat(digits)))\n",
        "\n",
        "def valid(exp):\n",
        "    \"\"\"Expression is valid iff it has no leading zero, and evaluates to true.\"\"\"\n",
        "    try:\n",
        "        return not leading_zero(exp) and eval(exp) is True\n",
        "    except ArithmeticError:\n",
        "        return False\n",
        "    \n",
        "cat = ''.join # Function to concatenate strings\n",
        "    \n",
        "leading_zero = re.compile(r'\\b0[0-9]').search # Function to check for illegal number"
      ],
      "metadata": {
        "id": "mR5Q4H7pT4Bb"
      },
      "execution_count": 13,
      "outputs": []
    },
    {
      "cell_type": "code",
      "source": [
        "next(solve('NUM + BER = PLAY'))"
      ],
      "metadata": {
        "colab": {
          "base_uri": "https://localhost:8080/",
          "height": 35
        },
        "id": "U-I87sgdT5Lw",
        "outputId": "86bacb2b-65f3-4d31-f5ba-82d1cb833ec1"
      },
      "execution_count": 16,
      "outputs": [
        {
          "output_type": "execute_result",
          "data": {
            "application/vnd.google.colaboratory.intrinsic+json": {
              "type": "string"
            },
            "text/plain": [
              "'675 + 423 == 1098'"
            ]
          },
          "metadata": {},
          "execution_count": 16
        }
      ]
    },
    {
      "cell_type": "code",
      "source": [
        "%time len(set(solve('NUM + BER = PLAY')))"
      ],
      "metadata": {
        "colab": {
          "base_uri": "https://localhost:8080/"
        },
        "id": "b4dNjxRTT-P7",
        "outputId": "61844c19-33ad-4c55-9037-899de8c14b1f"
      },
      "execution_count": 15,
      "outputs": [
        {
          "output_type": "stream",
          "name": "stdout",
          "text": [
            "CPU times: user 27.5 s, sys: 41.7 ms, total: 27.5 s\n",
            "Wall time: 27.8 s\n"
          ]
        },
        {
          "output_type": "execute_result",
          "data": {
            "text/plain": [
              "96"
            ]
          },
          "metadata": {},
          "execution_count": 15
        }
      ]
    },
    {
      "cell_type": "code",
      "source": [
        "%prun next(solve('NUM + BER = PLAY'))"
      ],
      "metadata": {
        "colab": {
          "base_uri": "https://localhost:8080/"
        },
        "id": "2oGNYsaDUFpH",
        "outputId": "59c25aa5-c3be-4332-af62-ef641be1855c"
      },
      "execution_count": 17,
      "outputs": [
        {
          "output_type": "stream",
          "name": "stdout",
          "text": [
            " "
          ]
        }
      ]
    },
    {
      "cell_type": "code",
      "source": [
        "def compile_formula(formula, verbose=False):\n",
        "    \"\"\"Compile formula into a function.   Also return letters found, as a str,\n",
        "    in same order as parms of function. For example, 'YOU == ME**2' returns\n",
        "    (lambda E,M,O,U,Y: M and Y and ((100*Y+10*O+U) == (10*M+E)**2), 'YMEUO'\"\"\"\n",
        "    formula      = formula.replace(' = ', ' == ')\n",
        "    letters      = cat(sorted(set(re.findall('[A-Z]', formula))))\n",
        "    firstletters = sorted(set(re.findall(r'\\b([A-Z])[A-Z]', formula)))\n",
        "    body         = re.sub('[A-Z]+', compile_word, formula)\n",
        "    body         = ' and '.join(firstletters + [body])\n",
        "    fn = 'lambda {}: {}'.format(','.join(letters), body)\n",
        "    if verbose: print(fn)\n",
        "    assert len(letters) <= 10\n",
        "    return eval(fn), letters\n",
        "\n",
        "def compile_word(matchobj):\n",
        "    \"Compile the word 'YOU' as '(100*Y + 10*O + U)'.\"\n",
        "    word = matchobj.group()\n",
        "    terms = reversed([mult(10**i, L) for (i, L) in enumerate(reversed(word))])\n",
        "    return '(' + '+'.join(terms) + ')'\n",
        "\n",
        "def mult(factor, var): return var if factor == 1 else str(factor) + '*' + var"
      ],
      "metadata": {
        "id": "-cv0vbcHUT5v"
      },
      "execution_count": 18,
      "outputs": []
    },
    {
      "cell_type": "code",
      "source": [
        "compile_formula(\"YOU == ME**2\", verbose=True)"
      ],
      "metadata": {
        "colab": {
          "base_uri": "https://localhost:8080/"
        },
        "id": "kvW7sW5ZUk2G",
        "outputId": "4ba7951a-ec54-4863-903e-af237604cce6"
      },
      "execution_count": 19,
      "outputs": [
        {
          "output_type": "stream",
          "name": "stdout",
          "text": [
            "lambda E,M,O,U,Y: M and Y and (100*Y+10*O+U) == (10*M+E)**2\n"
          ]
        },
        {
          "output_type": "execute_result",
          "data": {
            "text/plain": [
              "(<function __main__.<lambda>>, 'EMOUY')"
            ]
          },
          "metadata": {},
          "execution_count": 19
        }
      ]
    },
    {
      "cell_type": "code",
      "source": [
        "compile_formula(\"NUM + BER = PLAY\", verbose=True)"
      ],
      "metadata": {
        "colab": {
          "base_uri": "https://localhost:8080/"
        },
        "id": "mU-UVWakUnJo",
        "outputId": "81a322e2-41e8-4b0f-eb1d-e7c561ba30f6"
      },
      "execution_count": 20,
      "outputs": [
        {
          "output_type": "stream",
          "name": "stdout",
          "text": [
            "lambda A,B,E,L,M,N,P,R,U,Y: B and N and P and (100*N+10*U+M) + (100*B+10*E+R) == (1000*P+100*L+10*A+Y)\n"
          ]
        },
        {
          "output_type": "execute_result",
          "data": {
            "text/plain": [
              "(<function __main__.<lambda>>, 'ABELMNPRUY')"
            ]
          },
          "metadata": {},
          "execution_count": 20
        }
      ]
    },
    {
      "cell_type": "code",
      "source": [
        "def faster_solve(formula):\n",
        "    \"\"\"Given a formula like 'NUM + BER == PLAY', fill in digits to solve it.\n",
        "    This version precompiles the formula and generates all digit-filled-in strings.\"\"\"\n",
        "    fn, letters = compile_formula(formula)\n",
        "    for digits in itertools.permutations((1,2,3,4,5,6,7,8,9,0), len(letters)):\n",
        "        try:\n",
        "            if fn(*digits):\n",
        "                yield formula.translate(str.maketrans(letters, cat(map(str, digits))))\n",
        "        except ArithmeticError: \n",
        "            pass"
      ],
      "metadata": {
        "id": "v0BpLAR8UqF9"
      },
      "execution_count": 21,
      "outputs": []
    },
    {
      "cell_type": "code",
      "source": [
        "next(faster_solve('NUM + BER = PLAY'))"
      ],
      "metadata": {
        "colab": {
          "base_uri": "https://localhost:8080/",
          "height": 35
        },
        "id": "aBaYc4t-Usm0",
        "outputId": "927e4c5a-aee7-4e6d-f8fe-13dadc6dfff0"
      },
      "execution_count": 22,
      "outputs": [
        {
          "output_type": "execute_result",
          "data": {
            "application/vnd.google.colaboratory.intrinsic+json": {
              "type": "string"
            },
            "text/plain": [
              "'587 + 439 = 1026'"
            ]
          },
          "metadata": {},
          "execution_count": 22
        }
      ]
    },
    {
      "cell_type": "code",
      "source": [
        "%time len(list(faster_solve('NUM + BER = PLAY')))"
      ],
      "metadata": {
        "colab": {
          "base_uri": "https://localhost:8080/"
        },
        "id": "ZQBl4LhhUu92",
        "outputId": "53339186-e901-483c-963b-c6e5aa89a044"
      },
      "execution_count": 23,
      "outputs": [
        {
          "output_type": "stream",
          "name": "stdout",
          "text": [
            "CPU times: user 1.95 s, sys: 5.07 ms, total: 1.96 s\n",
            "Wall time: 1.97 s\n"
          ]
        },
        {
          "output_type": "execute_result",
          "data": {
            "text/plain": [
              "96"
            ]
          },
          "metadata": {},
          "execution_count": 23
        }
      ]
    },
    {
      "cell_type": "code",
      "source": [
        "examples = \"\"\"\n",
        "NUM + BER = PLAY\n",
        "YOU = ME ** 2\n",
        "SEND + MORE = MONEY\n",
        "PI * R**2 = AREA\n",
        "WRONG + WRONG = RIGHT\n",
        "WRIGHT + WRIGHT = TO * FLY + FLIGHT\n",
        "TWO + TWENTY = TWELVE + TEN\n",
        "A**2 + B**2 = C**2\n",
        "AYH**2 + BEE**2 = SEE**2\n",
        "RAMN = R**3 + RM**3 = N**3 + RX**3\n",
        "MON-EY = EVIL**(1/2)\n",
        "ALPHABET + LETTERS = SCRABBLE\n",
        "SIN**2 + COS**2 = UNITY\n",
        "POTATO + TOMATO = PUMPKIN\n",
        "ODD * ODD = FREAKY\n",
        "DOUBLE + DOUBLE + TOIL = TROUBLE\n",
        "WASH + YOUR = HANDS\n",
        "SPEED + LIMIT = FIFTY\n",
        "TERRIBLE + NUMBER = THIRTEEN\n",
        "SEVEN + SEVEN + SIX = TWENTY\n",
        "EIGHT + EIGHT + TWO + ONE + ONE = TWENTY\n",
        "ELEVEN + NINE + FIVE + FIVE = THIRTY\n",
        "NINE + SEVEN + SEVEN + SEVEN = THIRTY\n",
        "FOURTEEN + TEN + TEN + SEVEN = FORTYONE\n",
        "HAWAII + IDAHO + IOWA + OHIO = STATES\n",
        "VIOLIN * 2 + VIOLA = TRIO + SONATA\n",
        "SEND + A + TAD + MORE = MONEY\n",
        "ZEROES + ONES = BINARY\n",
        "DCLIZ + DLXVI = MCCXXV\n",
        "COUPLE + COUPLE = QUARTET\n",
        "FISH + N + CHIPS = SUPPER\n",
        "SATURN + URANUS + NEPTUNE + PLUTO = PLANETS\n",
        "PLUTO not in {PLANETS}\n",
        "EARTH + AIR + FIRE + WATER = NATURE\n",
        "TWO * TWO = SQUARE\n",
        "HIP * HIP = HURRAY\n",
        "NORTH / SOUTH = EAST / WEST\n",
        "NAUGHT ** 2 = ZERO ** 3\n",
        "I + THINK + IT + BE + THINE = INDEED\n",
        "DO + YOU + FEEL = LUCKY\n",
        "WELL - DO + YOU = PUNK\n",
        "NOW + WE + KNOW + THE = TRUTH\n",
        "SORRY + TO + BE + A + PARTY = POOPER\n",
        "SORRY + TO + BUST + YOUR = BUBBLE\n",
        "\"\"\".strip().splitlines()\n",
        "\n",
        "def run(examples):\n",
        "    for e in examples:\n",
        "        print('{:45}| {}'.format(e, next(faster_solve(e))))\n",
        "    return len(examples)\n",
        "        \n",
        "%time run(examples)"
      ],
      "metadata": {
        "colab": {
          "base_uri": "https://localhost:8080/"
        },
        "id": "nBrO3lY2UxJ1",
        "outputId": "3df2d347-2cd9-4dcf-c8f3-dd0128fcb242"
      },
      "execution_count": 25,
      "outputs": [
        {
          "output_type": "stream",
          "name": "stdout",
          "text": [
            "NUM + BER = PLAY                             | 587 + 439 = 1026\n",
            "YOU = ME ** 2                                | 576 = 24 ** 2\n",
            "SEND + MORE = MONEY                          | 9567 + 1085 = 10652\n",
            "PI * R**2 = AREA                             | 96 * 7**2 = 4704\n",
            "WRONG + WRONG = RIGHT                        | 37081 + 37081 = 74162\n",
            "WRIGHT + WRIGHT = TO * FLY + FLIGHT          | 413058 + 413058 = 82 * 769 + 763058\n",
            "TWO + TWENTY = TWELVE + TEN                  | 784 + 781279 = 781351 + 712\n",
            "A**2 + B**2 = C**2                           | 3**2 + 4**2 = 5**2\n",
            "AYH**2 + BEE**2 = SEE**2                     | 760**2 + 522**2 = 922**2\n",
            "RAMN = R**3 + RM**3 = N**3 + RX**3           | 1729 = 1**3 + 12**3 = 9**3 + 10**3\n",
            "MON-EY = EVIL**(1/2)                         | 108-42 = 4356**(1/2)\n",
            "ALPHABET + LETTERS = SCRABBLE                | 17531908 + 7088062 = 24619970\n",
            "SIN**2 + COS**2 = UNITY                      | 235**2 + 142**2 = 75389\n",
            "POTATO + TOMATO = PUMPKIN                    | 168486 + 863486 = 1031972\n",
            "ODD * ODD = FREAKY                           | 677 * 677 = 458329\n",
            "DOUBLE + DOUBLE + TOIL = TROUBLE             | 798064 + 798064 + 1936 = 1598064\n",
            "WASH + YOUR = HANDS                          | 5291 + 6748 = 12039\n",
            "SPEED + LIMIT = FIFTY                        | 40221 + 36568 = 76789\n",
            "TERRIBLE + NUMBER = THIRTEEN                 | 45881795 + 302758 = 46184553\n",
            "SEVEN + SEVEN + SIX = TWENTY                 | 68782 + 68782 + 650 = 138214\n",
            "EIGHT + EIGHT + TWO + ONE + ONE = TWENTY     | 52371 + 52371 + 104 + 485 + 485 = 105816\n",
            "ELEVEN + NINE + FIVE + FIVE = THIRTY         | 797275 + 5057 + 4027 + 4027 = 810386\n",
            "NINE + SEVEN + SEVEN + SEVEN = THIRTY        | 3239 + 49793 + 49793 + 49793 = 152618\n",
            "FOURTEEN + TEN + TEN + SEVEN = FORTYONE      | 19564882 + 482 + 482 + 78082 = 19643928\n",
            "HAWAII + IDAHO + IOWA + OHIO = STATES        | 510199 + 98153 + 9301 + 3593 = 621246\n",
            "VIOLIN * 2 + VIOLA = TRIO + SONATA           | 176478 * 2 + 17645 = 2076 + 368525\n",
            "SEND + A + TAD + MORE = MONEY                | 9283 + 7 + 473 + 1062 = 10825\n",
            "ZEROES + ONES = BINARY                       | 698392 + 3192 = 701584\n",
            "DCLIZ + DLXVI = MCCXXV                       | 62049 + 60834 = 122883\n",
            "COUPLE + COUPLE = QUARTET                    | 653924 + 653924 = 1307848\n",
            "FISH + N + CHIPS = SUPPER                    | 5718 + 3 + 98741 = 104462\n",
            "SATURN + URANUS + NEPTUNE + PLUTO = PLANETS  | 127503 + 502351 + 3947539 + 46578 = 4623971\n",
            "PLUTO not in {PLANETS}                       | 63985 not in {6314287}\n",
            "EARTH + AIR + FIRE + WATER = NATURE          | 67432 + 704 + 8046 + 97364 = 173546\n",
            "TWO * TWO = SQUARE                           | 807 * 807 = 651249\n",
            "HIP * HIP = HURRAY                           | 958 * 958 = 917764\n",
            "NORTH / SOUTH = EAST / WEST                  | 51304 / 61904 = 7260 / 8760\n",
            "NAUGHT ** 2 = ZERO ** 3                      | 328509 ** 2 = 4761 ** 3\n",
            "I + THINK + IT + BE + THINE = INDEED         | 1 + 64125 + 16 + 73 + 64123 = 128338\n",
            "DO + YOU + FEEL = LUCKY                      | 57 + 870 + 9441 = 10368\n",
            "WELL - DO + YOU = PUNK                       | 5277 - 13 + 830 = 6094\n",
            "NOW + WE + KNOW + THE = TRUTH                | 673 + 38 + 9673 + 128 = 10512\n",
            "SORRY + TO + BE + A + PARTY = POOPER         | 80556 + 20 + 34 + 9 + 19526 = 100145\n",
            "SORRY + TO + BUST + YOUR = BUBBLE            | 94665 + 24 + 1092 + 5406 = 101187\n",
            "CPU times: user 47.1 s, sys: 147 ms, total: 47.2 s\n",
            "Wall time: 47.5 s\n"
          ]
        },
        {
          "output_type": "execute_result",
          "data": {
            "text/plain": [
              "44"
            ]
          },
          "metadata": {},
          "execution_count": 25
        }
      ]
    }
  ]
}